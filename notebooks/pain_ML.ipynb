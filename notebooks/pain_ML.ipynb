{
 "cells": [
  {
   "cell_type": "code",
   "execution_count": 2,
   "metadata": {},
   "outputs": [
    {
     "name": "stdout",
     "output_type": "stream",
     "text": [
      "%pylab is deprecated, use %matplotlib inline and import the required libraries.\n",
      "Populating the interactive namespace from numpy and matplotlib\n"
     ]
    }
   ],
   "source": [
    "%pylab inline\n",
    "from collections import OrderedDict\n",
    "import pickle\n",
    "import numpy as np\n",
    "import seaborn as sns\n",
    "from tqdm import trange\n",
    "\n",
    "from sklearn.linear_model import LogisticRegression\n",
    "from sklearn.model_selection import StratifiedShuffleSplit\n",
    "from sklearn.metrics import f1_score\n",
    "from sklearn.metrics import precision_recall_curve\n",
    "from scipy.spatial.distance import pdist,squareform\n",
    "from sklearn.discriminant_analysis import LinearDiscriminantAnalysis\n",
    "from sklearn.preprocessing import LabelBinarizer\n",
    "\n",
    "import warnings\n",
    "warnings.filterwarnings('ignore') \n",
    "\n",
    "import os"
   ]
  },
  {
   "cell_type": "code",
   "execution_count": 24,
   "metadata": {},
   "outputs": [],
   "source": [
    "# To avoid overwriting figures \n",
    "import datetime\n",
    "now = datetime.datetime.now()\n"
   ]
  },
  {
   "cell_type": "code",
   "execution_count": 8,
   "metadata": {},
   "outputs": [],
   "source": [
    "#preprocess outputs\n",
    "\n",
    "summary_dir = '/mnt/hd0/Pain_ML_data/summaries'\n",
    "summary_filenames = ['deg_summaries.pkl','kpms_summaries.pkl', \n",
    "                     'palmreader_features_summaries.pkl', 'features_one_hot.pkl', 'ARBEL_summaries.pkl'\n",
    "                    ]\n",
    "summary_paths = [os.path.join(summary_dir,i) for i in summary_filenames]\n",
    "\n",
    "keywords = ['deg','kpms','palmreader', 'hot', 'ARBEL'] #hot is a quick-fix 10.16.24\n",
    "summaries = {}\n",
    "for summary in summary_paths:\n",
    "    for keyword in keywords:\n",
    "        #there has to be a better way of doing this\n",
    "        if keyword in summary:\n",
    "            with open(summary, 'rb') as f:\n",
    "                summaries[keyword] = pickle.load(f)\n"
   ]
  },
  {
   "cell_type": "code",
   "execution_count": 9,
   "metadata": {},
   "outputs": [],
   "source": [
    "# preprocessing: features data has some data that the deg group needs\n"
   ]
  },
  {
   "cell_type": "code",
   "execution_count": 10,
   "metadata": {},
   "outputs": [
    {
     "name": "stdout",
     "output_type": "stream",
     "text": [
      "{'formalin': 0, 'capsaicin': 1, 'pbs': 2}\n",
      "processsing deg\n",
      "processsing kpms\n",
      "processsing palmreader\n",
      "processsing hot\n",
      "processsing ARBEL\n",
      "deg : 38\n",
      "kpms : 38\n",
      "palmreader : 38\n",
      "hot : 38\n",
      "ARBEL : 38\n"
     ]
    }
   ],
   "source": [
    "exp_group_mapping = {summaries['deg'][i][0]:i for i in range(len(summaries['deg']))}\n",
    "exp_groups = [i for i in exp_group_mapping.keys()]\n",
    "print(exp_group_mapping)\n",
    "\n",
    "data, data_labels = {},{}\n",
    "for technique, technique_data in summaries.items():\n",
    "    print(f'processsing {technique}')\n",
    "    items, labels = [],[]\n",
    "    for exp_group, behavior_data in technique_data:\n",
    "        mapping = exp_group_mapping[exp_group] #TEST\n",
    "        for item in behavior_data:\n",
    "            # Flattening arrays and adding labels to an identically shaped array\n",
    "            items.append(item)\n",
    "            labels.append(mapping)\n",
    "    # adding data from technique to main dict\n",
    "    data[technique] = np.array(items)\n",
    "    data_labels[technique] = np.array(labels)\n",
    "for k,v in data.items():\n",
    "    print(k,':',len(v))"
   ]
  },
  {
   "cell_type": "code",
   "execution_count": 11,
   "metadata": {},
   "outputs": [
    {
     "name": "stdout",
     "output_type": "stream",
     "text": [
      "deg: (38, 4) | hot: (38, 2)\n",
      "combined: (38, 6)\n"
     ]
    }
   ],
   "source": [
    "# Data from hot and deg need to be combined\n",
    "print('deg:',data['deg'].shape, '| hot:',data['hot'].shape)\n",
    "combined = np.concatenate((data['deg'], data['hot']), axis=1)\n",
    "print('combined:',combined.shape)\n",
    "\n",
    "data['deg'] = combined\n",
    "del data['hot']\n",
    "del data_labels['hot']"
   ]
  },
  {
   "cell_type": "code",
   "execution_count": 12,
   "metadata": {},
   "outputs": [
    {
     "data": {
      "text/plain": [
       "(38, 15)"
      ]
     },
     "execution_count": 12,
     "metadata": {},
     "output_type": "execute_result"
    }
   ],
   "source": [
    "data['kpms'].shape"
   ]
  },
  {
   "cell_type": "code",
   "execution_count": 13,
   "metadata": {},
   "outputs": [],
   "source": [
    "# save data and the labels as one file\n",
    "combined_data = (data, data_labels)\n",
    "target_path = '/mnt/hd0/Pain_ML_data/summaries/combined_data.pkl'\n",
    "with open(target_path, 'wb') as f:\n",
    "    pickle.dump(combined_data, f)"
   ]
  },
  {
   "cell_type": "markdown",
   "metadata": {},
   "source": [
    "## Load Data"
   ]
  },
  {
   "cell_type": "code",
   "execution_count": 14,
   "metadata": {},
   "outputs": [],
   "source": [
    "filename = 'combined_data.pkl'\n",
    "fig_path = '/mnt/hd0/Pain_ML_data/summaries/figs'"
   ]
  },
  {
   "cell_type": "code",
   "execution_count": 15,
   "metadata": {},
   "outputs": [],
   "source": [
    "# with open(filename, 'rb') as f:\n",
    "#     fingerprints, fingerprint_labels = pickle.load(f)\n",
    "\n",
    "with open(target_path, 'rb') as f:\n",
    "    fingerprints, fingerprint_labels = pickle.load(f)"
   ]
  },
  {
   "cell_type": "markdown",
   "metadata": {},
   "source": [
    "## Classifier-Fitting Code"
   ]
  },
  {
   "cell_type": "code",
   "execution_count": 16,
   "metadata": {},
   "outputs": [],
   "source": [
    "def train_linear_classifier(features, labels, C=100.0, n_fold=1, test_size=0.2, seed=0):\n",
    "\n",
    "    splits = StratifiedShuffleSplit(n_splits=1, test_size=test_size, random_state=seed)\\\n",
    "               .split(features, labels)\n",
    "    train_ind, test_ind = next(splits)\n",
    "    model = LogisticRegression(penalty='l2', C=C, solver='lbfgs', multi_class='ovr', class_weight='balanced')\n",
    "    model.fit(features[train_ind], labels[train_ind])\n",
    "    pred_labels = model.predict(features[test_ind])\n",
    "    scores = model.predict_proba(features[test_ind])\n",
    "    true_labels = labels[test_ind]\n",
    "\n",
    "    return true_labels, pred_labels, scores"
   ]
  },
  {
   "cell_type": "markdown",
   "metadata": {},
   "source": [
    "## Choose a label level and other hyparparameters"
   ]
  },
  {
   "cell_type": "code",
   "execution_count": 17,
   "metadata": {},
   "outputs": [
    {
     "name": "stdout",
     "output_type": "stream",
     "text": [
      "['formalin', 'capsaicin', 'pbs']\n"
     ]
    }
   ],
   "source": [
    "feature_types = ['palmreader','ARBEL','kpms']\n",
    "y = fingerprint_labels['kpms'] #turns out doesn't need y for each group. just one for all\n",
    "unique_labels = exp_groups\n",
    "print(unique_labels)\n",
    "n_labels = len(unique_labels)\n",
    "label_binarizer = LabelBinarizer().fit(np.arange(n_labels))\n",
    "\n",
    "n_samples = 500 # for bootstrap measurements"
   ]
  },
  {
   "cell_type": "code",
   "execution_count": 18,
   "metadata": {},
   "outputs": [
    {
     "name": "stdout",
     "output_type": "stream",
     "text": [
      "[0 0 0 0 0 0 0 0 0 0 0 0 0 0 0 0 0 0 0 0 1 1 1 1 1 1 1 1 1 1 1 2 2 2 2 2 2\n",
      " 2]\n",
      "(array([0, 1, 2]), array([20, 11,  7]))\n"
     ]
    }
   ],
   "source": [
    "# fingerprints['moseq'][0]\n",
    "print(y)\n",
    "print(np.unique(y,return_counts=True))"
   ]
  },
  {
   "cell_type": "markdown",
   "metadata": {},
   "source": [
    "## Train a Classifier and Calculate Performance Metrics"
   ]
  },
  {
   "cell_type": "code",
   "execution_count": 20,
   "metadata": {},
   "outputs": [
    {
     "name": "stdout",
     "output_type": "stream",
     "text": [
      "Working on palmreader\n"
     ]
    },
    {
     "name": "stderr",
     "output_type": "stream",
     "text": [
      "100%|█████████████████████████████████████████████████████████| 500/500 [00:01<00:00, 258.23it/s]\n"
     ]
    },
    {
     "name": "stdout",
     "output_type": "stream",
     "text": [
      "Working on ARBEL\n"
     ]
    },
    {
     "name": "stderr",
     "output_type": "stream",
     "text": [
      "100%|█████████████████████████████████████████████████████████| 500/500 [00:01<00:00, 353.04it/s]\n"
     ]
    },
    {
     "name": "stdout",
     "output_type": "stream",
     "text": [
      "Working on kpms\n"
     ]
    },
    {
     "name": "stderr",
     "output_type": "stream",
     "text": [
      "100%|█████████████████████████████████████████████████████████| 500/500 [00:01<00:00, 273.39it/s]\n"
     ]
    }
   ],
   "source": [
    "precisions = OrderedDict(())\n",
    "recalls = OrderedDict(())\n",
    "f1s = OrderedDict(())\n",
    "\n",
    "for feature_type in feature_types:\n",
    "    print(f'Working on {feature_type}')\n",
    "\n",
    "    x = fingerprints[feature_type]\n",
    "        \n",
    "    f1s[feature_type] = []\n",
    "    all_true_labels = []\n",
    "    all_scores = []\n",
    "    \n",
    "    for iseed in trange(n_samples):\n",
    "        true_labels, pred_labels, scores = train_linear_classifier(x, y, seed=iseed)\n",
    "        all_true_labels.append(label_binarizer.transform(true_labels))\n",
    "        all_scores.append(scores)\n",
    "        \n",
    "        per_label_f1 = f1_score(true_labels, pred_labels, average=None)\n",
    "        f1s[feature_type].append(per_label_f1)\n",
    "  \n",
    "    precisions[feature_type], recalls[feature_type], _ = precision_recall_curve(\n",
    "        np.array(all_true_labels).ravel(), np.array(all_scores).ravel()\n",
    "    )\n",
    "    f1s[feature_type] = np.mean(f1s[feature_type], axis=0) # average over seeds"
   ]
  },
  {
   "cell_type": "markdown",
   "metadata": {},
   "source": [
    "#### Plotting utilities and settings"
   ]
  },
  {
   "cell_type": "code",
   "execution_count": 22,
   "metadata": {},
   "outputs": [],
   "source": [
    "# Plotting \n",
    "def make_label(feature_type):\n",
    "    return f'{feature_type} F1: {np.mean(f1s[feature_type]):.2f} ± {np.std(f1s[feature_type])/np.sqrt(n_labels):.2f}'\n",
    "    return f'{feature_type} F1: {np.mean(f1s[feature_type]):.2f} ± {np.std(f1s[feature_type])/np.sqrt(n_labels):.2f}'\n",
    "\n",
    "feature_color = {\n",
    "    'palmreader': '#B4AD33',\n",
    "    'ARBEL': '#7C449A',\n",
    "    'kpms': '#7C449A',\n",
    "}\n",
    "\n",
    "feature_mark = {\n",
    "    'palmreader': '-',\n",
    "    'ARBEL': '-',\n",
    "    'kpms': '--',\n",
    "}"
   ]
  },
  {
   "cell_type": "markdown",
   "metadata": {},
   "source": [
    "#### Show Precision-Recall Curves and F1 scores"
   ]
  },
  {
   "cell_type": "code",
   "execution_count": 25,
   "metadata": {
    "scrolled": true
   },
   "outputs": [
    {
     "data": {
      "image/png": "[encoded data removed]",
      "text/plain": [
       "<Figure size 1200x800 with 1 Axes>"
      ]
     },
     "metadata": {},
     "output_type": "display_data"
    }
   ],
   "source": [
    "plt.figure(figsize=(12, 8))\n",
    "\n",
    "for feature_type in feature_types:\n",
    "    label = make_label(feature_type)\n",
    "    plot(recalls[feature_type], precisions[feature_type],\n",
    "         label=label, color=feature_color[feature_type], \n",
    "         linestyle=feature_mark[feature_type])\n",
    "title('Precision-Recall Curves')\n",
    "xlabel('Recall')\n",
    "ylabel('Precision')\n",
    "ylim(0, 1.05)\n",
    "legend(loc='center left', bbox_to_anchor=[1,0.5])\n",
    "sns.despine()\n",
    "\n",
    "plt.tight_layout()\n",
    "plt.savefig(os.path.join(fig_path, f'3_item_precision_recall_{now}.png'))"
   ]
  },
  {
   "cell_type": "markdown",
   "metadata": {},
   "source": [
    "## Cosine Distances Between Treatments"
   ]
  },
  {
   "cell_type": "code",
   "execution_count": 26,
   "metadata": {},
   "outputs": [],
   "source": [
    "cosine = lambda data: squareform(pdist(data,metric='cosine'))\n",
    "\n",
    "def sim_matrix_of_avgs(data,labels):\n",
    "    # Get the per-label average of the data\n",
    "    unique_labels = np.unique(labels)\n",
    "    out = np.zeros((len(unique_labels),len(unique_labels)),dtype='float32')\n",
    "    means = np.zeros((len(unique_labels),data.shape[1]))\n",
    "    for ilabel in unique_labels:\n",
    "        means[ilabel] = np.nanmean(data[labels==ilabel],0)\n",
    "    return cosine(means)\n",
    "\n",
    "def show_cosine(data):\n",
    "    return imshow(sim_matrix_of_avgs(data, fingerprint_labels['deg']),\n",
    "                  cmap='viridis_r',\n",
    "                  clim=(0,1.0),\n",
    "                  interpolation=None); axis('square')\n",
    "\n",
    "\n",
    "short_name_map = OrderedDict([\n",
    "    ('formalin','formalin'),\n",
    "    ('capsaicin','capsaicin'),\n",
    "    ('pbs','pbs'),\n",
    "])\n",
    "short_names = [short_name_map[u] for u in unique_labels]"
   ]
  },
  {
   "cell_type": "code",
   "execution_count": 27,
   "metadata": {},
   "outputs": [
    {
     "data": {
      "image/png": "[encoded data removed]",
      "text/plain": [
       "<Figure size 1500x400 with 4 Axes>"
      ]
     },
     "metadata": {},
     "output_type": "display_data"
    }
   ],
   "source": [
    "figure(figsize=(15,4))\n",
    "gs = GridSpec(1,4, width_ratios=[10,10,10,0.3])\n",
    "\n",
    "ax = subplot(gs[0])\n",
    "cax = show_cosine(fingerprints['palmreader'])\n",
    "title('Palmreader', y=1.1)\n",
    "xticks(range(len(short_names)), short_names, rotation=90)\n",
    "yticks(range(len(short_names)), short_names)\n",
    "sns.despine()\n",
    "\n",
    "ax = subplot(gs[1])\n",
    "show_cosine(fingerprints['ARBEL'])\n",
    "title('ARBEL Pain Behaviors',y=1.1)\n",
    "xticks(range(len(short_names)), short_names, rotation=90)\n",
    "yticks(range(len(short_names)), short_names)\n",
    "sns.despine()\n",
    "\n",
    "ax = subplot(gs[2])\n",
    "show_cosine(fingerprints['kpms'])\n",
    "title('Keypoint-MoSeq',y=1.1)\n",
    "xticks(range(len(short_names)), short_names, rotation=90)\n",
    "yticks(range(len(short_names)), short_names)\n",
    "sns.despine()\n",
    "\n",
    "ax = subplot(gs[3])\n",
    "colorbar(cax, cax=ax);\n",
    "\n",
    "plt.tight_layout()\n",
    "plt.savefig(os.path.join(fig_path, f'3_item_confusion_{now}.png'))"
   ]
  },
  {
   "cell_type": "markdown",
   "metadata": {},
   "source": [
    "## LDA Visualization of Mice Across Treatments"
   ]
  },
  {
   "cell_type": "code",
   "execution_count": 20,
   "metadata": {},
   "outputs": [],
   "source": [
    "lda = LinearDiscriminantAnalysis(n_components=2).fit(fingerprints['kpms'], fingerprint_labels['deg'])\n",
    "p = lda.transform(fingerprints['kpms'])"
   ]
  },
  {
   "cell_type": "code",
   "execution_count": 21,
   "metadata": {},
   "outputs": [
    {
     "ename": "KeyError",
     "evalue": "'drug_class'",
     "output_type": "error",
     "traceback": [
      "\u001b[0;31m---------------------------------------------------------------------------\u001b[0m",
      "\u001b[0;31mKeyError\u001b[0m                                  Traceback (most recent call last)",
      "Cell \u001b[0;32mIn[21], line 1\u001b[0m\n\u001b[0;32m----> 1\u001b[0m drug_class \u001b[38;5;241m=\u001b[39m \u001b[43mfingerprint_labels\u001b[49m\u001b[43m[\u001b[49m\u001b[38;5;124;43m'\u001b[39;49m\u001b[38;5;124;43mdrug_class\u001b[39;49m\u001b[38;5;124;43m'\u001b[39;49m\u001b[43m]\u001b[49m\n\u001b[1;32m      2\u001b[0m unique_class \u001b[38;5;241m=\u001b[39m [b \u001b[38;5;28;01mfor\u001b[39;00m a,b \u001b[38;5;129;01min\u001b[39;00m \u001b[38;5;28mzip\u001b[39m([\u001b[38;5;124m\"\u001b[39m\u001b[38;5;124m\"\u001b[39m]\u001b[38;5;241m+\u001b[39mdrug_class,drug_class) \u001b[38;5;28;01mif\u001b[39;00m b\u001b[38;5;241m!=\u001b[39ma]\n\u001b[1;32m      3\u001b[0m drug \u001b[38;5;241m=\u001b[39m fingerprint_labels[\u001b[38;5;124m'\u001b[39m\u001b[38;5;124mdrug\u001b[39m\u001b[38;5;124m'\u001b[39m]\n",
      "\u001b[0;31mKeyError\u001b[0m: 'drug_class'"
     ]
    }
   ],
   "source": [
    "drug_class = fingerprint_labels['drug_class']\n",
    "unique_class = [b for a,b in zip([\"\"]+drug_class,drug_class) if b!=a]\n",
    "drug = fingerprint_labels['drug']\n",
    "unique_drug = [b for a,b in zip([\"\"]+drug,drug) if b!=a]"
   ]
  },
  {
   "cell_type": "code",
   "execution_count": null,
   "metadata": {},
   "outputs": [],
   "source": [
    "color_map = dict(zip(unique_class, sns.color_palette(palette='Paired', n_colors=len(unique_class))))\n",
    "class_per_drug = []\n",
    "\n",
    "colors_ = []\n",
    "for drug_ in unique_drug:\n",
    "    class_ = np.array(drug_class)[np.array(drug)==drug_][0]\n",
    "    colors_.append(color_map[class_])"
   ]
  },
  {
   "cell_type": "code",
   "execution_count": null,
   "metadata": {},
   "outputs": [],
   "source": [
    "for i, treatment in enumerate(unique_drug):\n",
    "    idx = fingerprint_labels['y_drug'] == i\n",
    "    plot(p[idx, 0], p[idx, 1], 'o', alpha=0.1, color=colors_[i])\n",
    "    x, y = np.mean(p[idx], axis=0)\n",
    "    plot(x, y, 'o',\n",
    "         markersize=15, color=colors_[i], label=short_name_map[treatment])\n",
    "    text(x + 0.3, y, short_name_map[treatment], fontsize=10, verticalalignment='center', )\n",
    "    \n",
    "sns.despine()\n",
    "ylim(-5, 5)\n",
    "xlim(-5, 9)\n",
    "xlabel('LDA 1')\n",
    "ylabel('LDA 2');"
   ]
  },
  {
   "cell_type": "code",
   "execution_count": null,
   "metadata": {},
   "outputs": [],
   "source": []
  },
  {
   "cell_type": "code",
   "execution_count": null,
   "metadata": {},
   "outputs": [],
   "source": []
  },
  {
   "cell_type": "code",
   "execution_count": null,
   "metadata": {},
   "outputs": [],
   "source": []
  },
  {
   "cell_type": "code",
   "execution_count": null,
   "metadata": {},
   "outputs": [],
   "source": []
  }
 ],
 "metadata": {
  "kernelspec": {
   "display_name": "Python 3 (ipykernel)",
   "language": "python",
   "name": "python3"
  },
  "language_info": {
   "codemirror_mode": {
    "name": "ipython",
    "version": 3
   },
   "file_extension": ".py",
   "mimetype": "text/x-python",
   "name": "python",
   "nbconvert_exporter": "python",
   "pygments_lexer": "ipython3",
   "version": "3.11.7"
  }
 },
 "nbformat": 4,
 "nbformat_minor": 4
}
