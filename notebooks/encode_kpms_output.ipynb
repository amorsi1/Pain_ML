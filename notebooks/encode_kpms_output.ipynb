{
 "cells": [
  {
   "cell_type": "code",
   "execution_count": 3,
   "id": "ffb09ab5-0e51-4eb9-ab62-09fd7e7a8bf4",
   "metadata": {},
   "outputs": [],
   "source": [
    "import numpy as np\n",
    "import os\n",
    "import csv\n",
    "from typing import List, Dict, Tuple\n",
    "\n"
   ]
  },
  {
   "cell_type": "code",
   "execution_count": 4,
   "id": "a9af7cee-5299-4793-820f-0894932ca3ac",
   "metadata": {},
   "outputs": [
    {
     "name": "stdout",
     "output_type": "stream",
     "text": [
      "%pylab is deprecated, use %matplotlib inline and import the required libraries.\n",
      "Populating the interactive namespace from numpy and matplotlib\n"
     ]
    }
   ],
   "source": [
    "#from moseq notebook\n",
    "%pylab inline\n",
    "from collections import OrderedDict\n",
    "import pickle\n",
    "import numpy as np\n",
    "import seaborn as sns\n",
    "from tqdm import trange\n",
    "\n",
    "from sklearn.linear_model import LogisticRegression\n",
    "from sklearn.model_selection import StratifiedShuffleSplit\n",
    "from sklearn.metrics import f1_score\n",
    "from sklearn.metrics import precision_recall_curve\n",
    "from scipy.spatial.distance import pdist,squareform\n",
    "from sklearn.discriminant_analysis import LinearDiscriminantAnalysis\n",
    "from sklearn.preprocessing import LabelBinarizer, LabelEncoder\n",
    "\n",
    "import warnings\n",
    "warnings.filterwarnings('ignore') "
   ]
  },
  {
   "cell_type": "code",
   "execution_count": 5,
   "id": "950554a6-ec96-40b6-8d09-6d70a12dfde1",
   "metadata": {},
   "outputs": [],
   "source": [
    "data_dir = '/mnt/hd0/Pain_ML_data'\n",
    "exp_groups = ['capsaicin','formalin','pbs']\n",
    "\n",
    "\n",
    "exp_group_labels = LabelEncoder().fit_transform(exp_groups)\n",
    "exp_group_str_to_label = {i:idx for idx,i in enumerate(exp_groups)}\n",
    "label_binarizer = LabelBinarizer().fit(exp_group_labels)\n",
    "\n",
    "n_samples = 500 # for bootstrap measurements"
   ]
  },
  {
   "cell_type": "code",
   "execution_count": 6,
   "id": "83e430fb-94b7-40c1-a2f7-ed2d9cf76601",
   "metadata": {},
   "outputs": [],
   "source": [
    "def get_kpms_filepaths(data_dir, exp_groups= []) -> Tuple[List[str], List[int]]:\n",
    "    \"\"\"\n",
    "    Identifies kpms output files from data_dir and returns a list of all of their filepaths. If exp_groups is passed in then it will also return a list of each sample's \n",
    "    experimental group. Both these functions are dependent on data_dir having the appropriate directory structure\n",
    "\n",
    "    :param data_dir: Root directory of all files\n",
    "            ├── data_dir/\n",
    "            |   ├── videos/\n",
    "            |   │   ├── exp_group_1/\n",
    "            |   │   │   ├── recording\n",
    "            |   │   │   │   ├── trimmed_SN_grp2_0mins-2024-02-07_11-08-27-_chamber_2_body.avi\n",
    "            |   │   │   │   ├── trimmed_SN_grp2_0mins-2024-02-07_11-08-27-_chamber_2_ftir.avi\n",
    "            |   │   │   │   ├── trimmed_SN_grp2_0mins-2024-02-07_11-08-27-_chamber_2_bodyDLC_resnet50_arcteryx500Nov4shuffle1_350000-kpms.csv\n",
    "            \n",
    "    :param exp_groups (List[str]): Names of experimental groups to match for. These are expected to be 2 directories above the kpms output files\n",
    "    \n",
    "    :return: \n",
    "        :filepaths: List of absolute filepaths of all files in data_dir that end with 'kpms.csv'\n",
    "        :file_labels: List of exp_groups for all kpms files in filepaths. Encoded as int based on exp_group_str_to_label\n",
    "    \n",
    "    \"\"\"\n",
    "    filepaths = []\n",
    "    file_labels = []\n",
    "    for root, dirs, files in os.walk(data_dir):\n",
    "        for file in files:\n",
    "            # Identify kpms files\n",
    "            if file.endswith('kpms.csv'): \n",
    "                filepath = os.path.join(root,file)\n",
    "                dirname = os.path.basename(os.path.dirname(root))\n",
    "                # Append to list\n",
    "                filepaths.append(filepath)\n",
    "                # Also append experimental group of sample if exp_groups is passed in\n",
    "                if exp_groups:\n",
    "                    if dirname in exp_groups:\n",
    "                        file_labels.append(exp_group_str_to_label[dirname])\n",
    "    return filepaths, file_labels\n",
    "kpms_filepaths, kpms_labels = get_kpms_filepaths(data_dir, exp_groups)\n",
    "# [print((os.path.basename(a),b)) for a,b in zip(kpms_filepaths,kpms_labels)]"
   ]
  },
  {
   "cell_type": "code",
   "execution_count": 7,
   "id": "ff7abac7-3e25-4c23-9dbf-116a1c3e5252",
   "metadata": {},
   "outputs": [
    {
     "data": {
      "text/plain": [
       "55"
      ]
     },
     "execution_count": 7,
     "metadata": {},
     "output_type": "execute_result"
    }
   ],
   "source": [
    "len(kpms_labels)"
   ]
  },
  {
   "cell_type": "code",
   "execution_count": 8,
   "id": "e0ac9452-2460-4857-87ac-035006651332",
   "metadata": {},
   "outputs": [],
   "source": [
    "\n",
    "def load_csv_column_to_list(filename, column_name) -> List:\n",
    "    \"\"\"\n",
    "    Loads specific column from a csv file, returning it as a list\n",
    "    \"\"\"\n",
    "    with open(filename, 'r', newline='') as file:\n",
    "        reader = csv.reader(file)\n",
    "        headers = next(reader)  # Read the header row\n",
    "        \n",
    "        if column_name is not None:\n",
    "            column_index = headers.index(column_name)\n",
    "        return [row[column_index] for row in reader]\n",
    "\n",
    "recording_syllables = [load_csv_column_to_list(kpms_file,'syllable') for kpms_file in kpms_filepaths]"
   ]
  },
  {
   "cell_type": "code",
   "execution_count": null,
   "id": "da0f28b9-be43-4b42-ab41-d8f52d46f1f1",
   "metadata": {},
   "outputs": [],
   "source": []
  },
  {
   "cell_type": "code",
   "execution_count": 9,
   "id": "cc49f80e-9cc8-453c-af0f-c26b70ea521f",
   "metadata": {},
   "outputs": [],
   "source": [
    "\n",
    "def extract_unique_syllables(list_of_kpms_filepaths: List[str]) -> Dict[str,int]:\n",
    "    detected_syllables = {}\n",
    "    for file in list_of_kpms_filepaths:\n",
    "        # find unique vals\n",
    "        recording_syllables = load_csv_column_to_list(file,'syllable')\n",
    "        unique, counts = np.unique(recording_syllables, return_counts=True)\n",
    "        # print(len(unique),len(counts))\n",
    "        for u, c in zip(unique, counts):\n",
    "            # add syllable and count if not in dict yet\n",
    "            if u not in detected_syllables.keys():\n",
    "                # print(f'adding syllable {u}')\n",
    "                detected_syllables[u] = c\n",
    "            else:\n",
    "                # update count if syllable already in dict\n",
    "                detected_syllables[u] += c\n",
    "    return detected_syllables\n",
    "    "
   ]
  },
  {
   "cell_type": "code",
   "execution_count": 10,
   "id": "d98db2c7-7dd5-44a2-9711-4db688ca7458",
   "metadata": {},
   "outputs": [
    {
     "name": "stdout",
     "output_type": "stream",
     "text": [
      "['2', '0', '1', '5', '6', '3', '4', '12', '7', '11', '13', '15', '9', '8', '16', '10', '22', '17', '21', '19', '14']\n"
     ]
    }
   ],
   "source": [
    "def num_of_syllables_for_percentage_of_data (sorted_dict, percentage: float) -> int:\n",
    "    \"\"\"\n",
    "    Calculates the number of syllables needed to explain a percentage of the total data\n",
    "\n",
    "    :param sorted_dict: sorted dict of format <sorted_dict[syllable] = syllable_count> for all videos in dataset\n",
    "    :param percentage: percent of data you want the syllables to explain, modulating the number of syllables returned by the function. Expecting values (0,100], not (0,1]\n",
    "    \n",
    "    :return: Minimum number of syllables needed to explain {percentage} percent of the data\n",
    "    \"\"\"\n",
    "    # Calculate the total count\n",
    "    total_count = sum(list(sorted_dict.values())) #added list because total_count was being assigned a dict not a single number\n",
    "    \n",
    "    # Calculate cumulative sum and percentage\n",
    "    cumulative_sum = np.cumsum(list(sorted_dict.values()))\n",
    "    cumulative_percentage = (cumulative_sum / total_count) * 100\n",
    "    \n",
    "    return np.argmax(cumulative_percentage >= percentage) + 1\n",
    "\n",
    "def get_top_syllables(data_dir: str, percent: float) -> List[str]:\n",
    "    # get syllable counts across all videos\n",
    "    kpms_filepaths, __ = get_kpms_filepaths(data_dir)\n",
    "    detected_syllables = extract_unique_syllables(kpms_filepaths)\n",
    "    # sort syllable dict by count values\n",
    "    sorted_dict = dict(sorted(detected_syllables.items(), key=lambda item: item[1], reverse=True))\n",
    "    num_syllables_needed = num_of_syllables_for_percentage_of_data(sorted_dict, percent)\n",
    "    top_syllables = list(sorted_dict.keys())[:num_syllables_needed]\n",
    "    \n",
    "    return top_syllables\n",
    "\n",
    "syllable_map = get_top_syllables(data_dir,98)\n",
    "print(syllable_map)"
   ]
  },
  {
   "cell_type": "code",
   "execution_count": 11,
   "id": "fc4e7653-c77f-4ceb-ae10-01cc3dfde754",
   "metadata": {},
   "outputs": [
    {
     "data": {
      "image/png": "[encoded data removed]",
      "text/plain": [
       "<Figure size 1200x600 with 1 Axes>"
      ]
     },
     "metadata": {},
     "output_type": "display_data"
    },
    {
     "name": "stdout",
     "output_type": "stream",
     "text": [
      "Total number of syllables: 50\n",
      "Number of syllables needed to reach 80% of total count: 8\n",
      "Number of syllables needed to reach 90% of total count: 12\n",
      "\n",
      "Top 10 most frequent syllables:\n",
      "1. Syllable 2: 188703 (25.41%)\n",
      "2. Syllable 0: 152053 (20.48%)\n",
      "3. Syllable 1: 102917 (13.86%)\n",
      "4. Syllable 5: 44465 (5.99%)\n",
      "5. Syllable 6: 36472 (4.91%)\n",
      "6. Syllable 3: 35140 (4.73%)\n",
      "7. Syllable 4: 31092 (4.19%)\n",
      "8. Syllable 12: 23080 (3.11%)\n",
      "9. Syllable 7: 19482 (2.62%)\n",
      "10. Syllable 11: 14483 (1.95%)\n"
     ]
    }
   ],
   "source": [
    "import matplotlib.pyplot as plt\n",
    "import numpy as np\n",
    "\n",
    "#from abve fn\n",
    "kpms_filepaths, __ = get_kpms_filepaths(data_dir)\n",
    "detected_syllables = extract_unique_syllables(kpms_filepaths)\n",
    "sorted_dict = dict(sorted(detected_syllables.items(), key=lambda item: item[1], reverse=True))\n",
    "\n",
    "# Calculate the total count\n",
    "total_count = sum(list(sorted_dict.values()))\n",
    "\n",
    "# Calculate cumulative sum and percentage\n",
    "cumulative_sum = np.cumsum(list(sorted_dict.values()))\n",
    "cumulative_percentage = (cumulative_sum / total_count) * 100\n",
    "\n",
    "# Create the plot\n",
    "plt.figure(figsize=(12, 6))\n",
    "plt.plot(range(1, len(sorted_dict) + 1), cumulative_percentage, marker='o')\n",
    "plt.xlabel('Number of Syllables')\n",
    "plt.ylabel('Cumulative Percentage of Total Count')\n",
    "plt.title('Cumulative Distribution of Syllable Counts')\n",
    "plt.grid(True)\n",
    "\n",
    "# Add reference lines\n",
    "plt.axhline(y=80, color='r', linestyle='--', label='80% Line')\n",
    "plt.axhline(y=90, color='g', linestyle='--', label='90% Line')\n",
    "\n",
    "# Annotate the number of syllables needed to reach 80% and 90%\n",
    "syllables_80 = np.argmax(cumulative_percentage >= 80) + 1\n",
    "syllables_90 = np.argmax(cumulative_percentage >= 90) + 1\n",
    "\n",
    "plt.annotate(f'80% at {syllables_80} syllables', xy=(syllables_80, 80), xytext=(syllables_80+1, 75),\n",
    "             arrowprops=dict(facecolor='black', shrink=0.05))\n",
    "plt.annotate(f'90% at {syllables_90} syllables', xy=(syllables_90, 90), xytext=(syllables_90+1, 85),\n",
    "             arrowprops=dict(facecolor='black', shrink=0.05))\n",
    "\n",
    "plt.legend()\n",
    "plt.tight_layout()\n",
    "plt.show()\n",
    "\n",
    "# Print some statistics\n",
    "print(f\"Total number of syllables: {len(sorted_dict)}\")\n",
    "print(f\"Number of syllables needed to reach 80% of total count: {syllables_80}\")\n",
    "print(f\"Number of syllables needed to reach 90% of total count: {syllables_90}\")\n",
    "\n",
    "# Print top 10 most frequent syllables\n",
    "print(\"\\nTop 10 most frequent syllables:\")\n",
    "for i, (syllable, count) in enumerate(list(sorted_dict.items())[:10], 1):\n",
    "    percentage = (count / total_count) * 100\n",
    "    print(f\"{i}. Syllable {syllable}: {count} ({percentage:.2f}%)\")"
   ]
  },
  {
   "cell_type": "code",
   "execution_count": 12,
   "id": "65194903-e303-41c1-aacb-1b75091dfbeb",
   "metadata": {},
   "outputs": [
    {
     "data": {
      "text/plain": [
       "array([0.14103704, 0.25288889, 0.18918519, 0.10792593, 0.01503704,\n",
       "       0.04777778, 0.0597037 , 0.01511111, 0.02948148, 0.00340741,\n",
       "       0.06888889, 0.01081481, 0.02081481, 0.002     , 0.002     ,\n",
       "       0.00451852, 0.        , 0.00785185, 0.00096296, 0.        ,\n",
       "       0.00792593])"
      ]
     },
     "execution_count": 12,
     "metadata": {},
     "output_type": "execute_result"
    }
   ],
   "source": [
    "def get_syllables_freqs(syllable_seq: List[str], syllable_map: List[str]):\n",
    "    \n",
    "    # Initialize freqs array in same shape as syllable_map\n",
    "    freqs = np.zeros(len(syllable_map))\n",
    "\n",
    "    # Get unique values and counts of every value in syllable_seq\n",
    "    num_syllables = len(syllable_seq)\n",
    "    syllables, counts = np.unique(syllable_seq, return_counts=True)\n",
    "    \n",
    "    for s,c in zip(syllables,counts):\n",
    "        #if unique syllable_seq in syllable_map\n",
    "        if s in syllable_map:\n",
    "            index = syllable_map.index(s)\n",
    "            freqs[index] = c / num_syllables\n",
    "    return freqs\n",
    "            \n",
    "get_syllables_freqs(recording_syllables[0], syllable_map)"
   ]
  },
  {
   "cell_type": "code",
   "execution_count": 13,
   "id": "ed1faea5-aee5-4449-8302-94d986ae85d6",
   "metadata": {},
   "outputs": [
    {
     "name": "stdout",
     "output_type": "stream",
     "text": [
      "[0.14103704 0.25288889 0.18918519 0.10792593 0.01503704 0.04777778\n",
      " 0.0597037  0.01511111 0.02948148 0.00340741 0.06888889 0.01081481\n",
      " 0.02081481 0.002      0.002      0.00451852 0.         0.00785185\n",
      " 0.00096296 0.         0.00792593]\n"
     ]
    }
   ],
   "source": [
    "syllable_freqs = np.array([get_syllables_freqs(recording, syllable_map) for recording in recording_syllables])\n",
    "print(syllable_freqs[0])"
   ]
  },
  {
   "cell_type": "markdown",
   "id": "39e577af-95b7-4578-a6a8-ec1ea83bc9a0",
   "metadata": {},
   "source": [
    "## Moseq notebook"
   ]
  },
  {
   "cell_type": "code",
   "execution_count": 14,
   "id": "69d024a4-d014-45f6-8fb8-c55ae85ff2df",
   "metadata": {},
   "outputs": [],
   "source": [
    "def train_linear_classifier(features, labels, C=100.0, n_fold=1, test_size=0.2, seed=0):\n",
    "\n",
    "    splits = StratifiedShuffleSplit(n_splits=1, test_size=test_size, random_state=seed)\\\n",
    "               .split(features, labels)\n",
    "    train_ind, test_ind = next(splits)\n",
    "    model = LogisticRegression(penalty='l2', C=C, solver='lbfgs', multi_class='ovr', class_weight='balanced')\n",
    "    model.fit(features[train_ind], labels[train_ind])\n",
    "    pred_labels = model.predict(features[test_ind])\n",
    "    scores = model.predict_proba(features[test_ind])\n",
    "    true_labels = labels[test_ind]\n",
    "\n",
    "    return true_labels, pred_labels, scores"
   ]
  },
  {
   "cell_type": "code",
   "execution_count": 15,
   "id": "2209bbc4-8fcf-4de1-9fe5-d2c76174e646",
   "metadata": {},
   "outputs": [],
   "source": [
    "label_level = 'drug' # also valid: class, dose\n",
    "feature_types = ['kpms']#'pain_behaviors'] # 'scalars', 'shuffled_moseq']\n",
    "# y = fingerprint_labels[f'y_{label_level}']\n",
    "y = np.array(kpms_labels)\n",
    "unique_labels = exp_groups\n",
    "n_labels = len(unique_labels)\n",
    "# label_binarizer = LabelBinarizer().fit(np.arange(n_labels))\n",
    "n_samples = 500 # for bootstrap measurements"
   ]
  },
  {
   "cell_type": "code",
   "execution_count": 282,
   "id": "475df224-ec03-4d4d-b325-13aa8a6d5e01",
   "metadata": {},
   "outputs": [
    {
     "name": "stdout",
     "output_type": "stream",
     "text": [
      "Working on kpms\n"
     ]
    },
    {
     "name": "stderr",
     "output_type": "stream",
     "text": [
      "100%|███████████████████████████████████████████| 1000/1000 [00:06<00:00, 161.76it/s]\n"
     ]
    }
   ],
   "source": [
    "precisions = OrderedDict(())\n",
    "recalls = OrderedDict(())\n",
    "f1s = OrderedDict(())\n",
    "\n",
    "\n",
    "for feature_type in feature_types:\n",
    "    print(f'Working on {feature_type}')\n",
    "    \n",
    "    # x = fingerprints[feature_type]\n",
    "    x = syllable_freqs\n",
    "        \n",
    "    f1s[feature_type] = []\n",
    "    all_true_labels = []\n",
    "    all_scores = []\n",
    "    \n",
    "    for iseed in trange(n_samples):\n",
    "        true_labels, pred_labels, scores = train_linear_classifier(x, y, seed=iseed)\n",
    "        all_true_labels.append(label_binarizer.transform(true_labels))\n",
    "        all_scores.append(scores)\n",
    "        \n",
    "        per_label_f1 = f1_score(true_labels, pred_labels, average=None)\n",
    "        f1s[feature_type].append(per_label_f1)\n",
    "    \n",
    "    precisions[feature_type], recalls[feature_type], _ = precision_recall_curve(\n",
    "        np.array(all_true_labels).ravel(), np.array(all_scores).ravel()\n",
    "    )\n",
    "    f1s[feature_type] = np.mean(f1s[feature_type], axis=0) # average over seeds"
   ]
  },
  {
   "cell_type": "markdown",
   "id": "4f7061f1-767d-4ca7-9611-6ea8ce154840",
   "metadata": {},
   "source": [
    "#### Plotting utilities and settings"
   ]
  },
  {
   "cell_type": "code",
   "execution_count": 283,
   "id": "99535e91-284f-4bc4-8a47-8c58ee4ceff1",
   "metadata": {},
   "outputs": [],
   "source": [
    "# Plotting \n",
    "def make_label(feature_type):\n",
    "    return f'{feature_type} F1: {np.mean(f1s[feature_type]):.2f} ± {np.std(f1s[feature_type])/np.sqrt(n_labels):.2f}'\n",
    "    return f'{feature_type} F1: {np.mean(f1s[feature_type]):.2f} ± {np.std(f1s[feature_type])/np.sqrt(n_labels):.2f}'\n",
    "\n",
    "feature_color = {\n",
    "    'scalars': '#B4AD33',\n",
    "    'kpms': '#7C449A',\n",
    "    'shuffled_moseq': '#7C449A',\n",
    "}\n",
    "\n",
    "feature_mark = {\n",
    "    'scalars': '-',\n",
    "    'kpms': '-',\n",
    "    'shuffled_moseq': '--',\n",
    "}"
   ]
  },
  {
   "cell_type": "code",
   "execution_count": null,
   "id": "9c1f79e4-82a5-4483-b7c9-b74d1bb4135a",
   "metadata": {},
   "outputs": [],
   "source": []
  },
  {
   "cell_type": "code",
   "execution_count": 284,
   "id": "3212d765-83b9-4dd0-b2a3-2db84e061fcb",
   "metadata": {},
   "outputs": [
    {
     "data": {
      "image/png": "[encoded data removed]",
      "text/plain": [
       "<Figure size 640x480 with 1 Axes>"
      ]
     },
     "metadata": {},
     "output_type": "display_data"
    }
   ],
   "source": [
    "for feature_type in feature_types:\n",
    "    label = make_label(feature_type)\n",
    "    plot(recalls[feature_type], precisions[feature_type],\n",
    "         label=label, color=feature_color[feature_type], \n",
    "         linestyle=feature_mark[feature_type])\n",
    "title('Precision-Recall Curves')\n",
    "xlabel('Recall')\n",
    "ylabel('Precision')\n",
    "ylim(0, 1.05)\n",
    "legend(loc='center left', bbox_to_anchor=[1,0.5])\n",
    "sns.despine()"
   ]
  },
  {
   "cell_type": "code",
   "execution_count": 285,
   "id": "c7c0ec3f-14cf-4e5e-b4a0-539a1ab616ce",
   "metadata": {},
   "outputs": [],
   "source": [
    "cosine = lambda data: squareform(pdist(data,metric='cosine'))\n",
    "\n",
    "def sim_matrix_of_avgs(data,labels):\n",
    "    # Get the per-label average of the data\n",
    "    unique_labels = np.unique(labels)\n",
    "    out = np.zeros((len(unique_labels),len(unique_labels)),dtype='float32')\n",
    "    means = np.zeros((len(unique_labels),data.shape[1]))\n",
    "    for ilabel in unique_labels:\n",
    "        means[ilabel] = np.nanmean(data[labels==ilabel],0)\n",
    "    return cosine(means)\n",
    "\n",
    "def show_cosine(data):\n",
    "    return imshow(sim_matrix_of_avgs(data, y),\n",
    "                  cmap='viridis_r',\n",
    "                  clim=(0,1.0),\n",
    "                  interpolation=None); axis('square')\n",
    "\n",
    "\n",
    "short_name_map = OrderedDict([\n",
    "    ('capsaicin','CAP'),\n",
    "    ('formalin','FOR'),\n",
    "    ('pbs','PBS'),\n",
    "\n",
    "])\n",
    "short_names = [short_name_map[u] for u in unique_labels]"
   ]
  },
  {
   "cell_type": "code",
   "execution_count": 286,
   "id": "2b20d860-6dc7-4ab9-8dd9-f32fc23b221d",
   "metadata": {},
   "outputs": [
    {
     "data": {
      "text/plain": [
       "<matplotlib.colorbar.Colorbar at 0x7cd3c0bd0460>"
      ]
     },
     "execution_count": 286,
     "metadata": {},
     "output_type": "execute_result"
    },
    {
     "data": {
      "image/png": "[encoded data removed]",
      "text/plain": [
       "<Figure size 1000x400 with 3 Axes>"
      ]
     },
     "metadata": {},
     "output_type": "display_data"
    }
   ],
   "source": [
    "figure(figsize=(10,4))\n",
    "gs = GridSpec(1,3, width_ratios=[10,10,0.3])\n",
    "\n",
    "# ax = subplot(gs[0])\n",
    "# cax = show_cosine(fingerprints['scalars'])\n",
    "# title('Scalars', y=1.1)\n",
    "# xticks(range(len(short_names)), short_names, rotation=90)\n",
    "# yticks(range(len(short_names)), short_names)\n",
    "# sns.despine()\n",
    "\n",
    "ax = subplot(gs[1])\n",
    "show_cosine(x)\n",
    "title('kpms',y=1.1)\n",
    "xticks(range(len(short_names)), short_names, rotation=90)\n",
    "yticks(range(len(short_names)), short_names)\n",
    "sns.despine()\n",
    "\n",
    "ax = subplot(gs[2])\n",
    "# colorbar(ax, cax=ax);\n",
    "colorbar()"
   ]
  },
  {
   "cell_type": "code",
   "execution_count": null,
   "id": "125e190f-eefe-429b-8036-85e78bc7a697",
   "metadata": {},
   "outputs": [],
   "source": []
  },
  {
   "cell_type": "code",
   "execution_count": null,
   "id": "550c7880-9541-4b31-8876-12af39c486ae",
   "metadata": {},
   "outputs": [],
   "source": []
  }
 ],
 "metadata": {
  "kernelspec": {
   "display_name": "Python 3 (ipykernel)",
   "language": "python",
   "name": "python3"
  },
  "language_info": {
   "codemirror_mode": {
    "name": "ipython",
    "version": 3
   },
   "file_extension": ".py",
   "mimetype": "text/x-python",
   "name": "python",
   "nbconvert_exporter": "python",
   "pygments_lexer": "ipython3",
   "version": "3.9.20"
  }
 },
 "nbformat": 4,
 "nbformat_minor": 5
}
