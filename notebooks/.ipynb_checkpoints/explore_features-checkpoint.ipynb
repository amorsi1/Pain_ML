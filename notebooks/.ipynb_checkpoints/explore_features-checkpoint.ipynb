{
 "cells": [
  {
   "cell_type": "code",
   "execution_count": 41,
   "id": "60cd06ca-17a5-48bf-9957-4bd327509562",
   "metadata": {},
   "outputs": [],
   "source": [
    "import numpy as np\n",
    "import os\n",
    "import csv\n",
    "from typing import List, Dict, Tuple\n",
    "import h5py\n",
    "import warnings\n",
    "from collections import defaultdict\n",
    "import matplotlib.pyplot as plt\n",
    "\n"
   ]
  },
  {
   "cell_type": "code",
   "execution_count": 42,
   "id": "3fb563cb-b31b-400c-91fd-031a4963bfd3",
   "metadata": {},
   "outputs": [],
   "source": [
    "pbs_example = '/mnt/hd0/Pain_ML_data/videos/pbs/trimmed_2024-07-15_22-04-39_1-2blue'\n",
    "formalin_example = '/mnt/hd0/Pain_ML_data/videos/formalin/formalin-trimmed_2024-07-15_22-04-39_1-1blue'\n",
    "\n",
    "ex = os.path.join(pbs_example,'features.h5')"
   ]
  },
  {
   "cell_type": "code",
   "execution_count": 43,
   "id": "5024d7f2-6086-4c9b-b988-a9bada7ffe2c",
   "metadata": {},
   "outputs": [
    {
     "data": {
      "text/plain": [
       "'/mnt/hd0/Pain_ML_data/videos/pbs/trimmed_2024-07-15_22-04-39_1-2blue/features.h5'"
      ]
     },
     "execution_count": 43,
     "metadata": {},
     "output_type": "execute_result"
    }
   ],
   "source": [
    "ex"
   ]
  },
  {
   "cell_type": "code",
   "execution_count": 44,
   "id": "4540bf90-9f14-4841-99f5-bd3333dedc9b",
   "metadata": {},
   "outputs": [],
   "source": [
    "# def traverse_hdf5(name, node, group_data):\n",
    "#     group_name = name.split('/')[0]  # Get the top-level group name\n",
    "#     if isinstance(node, h5py.Dataset):\n",
    "#         if group_name not in group_data:\n",
    "#             group_data[group_name] = {}\n",
    "#         dataset_name = name.split('/')[-1]  # Get the dataset name\n",
    "#         group_data[group_name][dataset_name] = {\n",
    "#             'shape': node.shape,\n",
    "#             'dtype': str(node.dtype),\n",
    "#             # 'sample': node[(0,) * len(node.shape)][:5].tolist()  # Convert to list for easier printing\n",
    "#         }\n",
    "\n",
    "# def explore_h5_file(file_path):\n",
    "#     group_data = defaultdict(dict)\n",
    "#     with h5py.File(file_path, 'r') as f:\n",
    "#         f.visititems(lambda name, node: traverse_hdf5(name, node, group_data))\n",
    "    \n",
    "#     print(f\"Exploring file: {file_path}\\n\")\n",
    "#     for group_name, datasets in group_data.items():\n",
    "#         print(f\"Group: {group_name}\")\n",
    "#         print(f\"Number of datasets: {len(datasets)}\")\n",
    "#         total_data_points = sum(info['shape'][0] for info in datasets.values())\n",
    "#         print(f\"Total data points: {total_data_points}\")\n",
    "#         print(\"Datasets:\")\n",
    "#         for dataset_name, info in datasets.items():\n",
    "#             print(f\"  - {dataset_name}\")\n",
    "#             print(f\"    Shape: {info['shape']}\")\n",
    "#             print(f\"    Type: {info['dtype']}\")\n",
    "#             # print(f\"    First few values: {info['sample']}\")\n",
    "#         print()\n",
    "#     return group_data\n",
    "\n",
    "# explore_h5_file(ex)"
   ]
  },
  {
   "cell_type": "code",
   "execution_count": 45,
   "id": "fbb39f3f-1a0d-42db-82b6-ee854cd6513c",
   "metadata": {},
   "outputs": [],
   "source": [
    "class HDF5Manager:\n",
    "    def __init__(self, file_path):\n",
    "        self.file_path = file_path\n",
    "        self.file = None\n",
    "        self.group_data = defaultdict(dict)\n",
    "        self._traverse_file()\n",
    "\n",
    "    def _traverse_file(self):\n",
    "        with h5py.File(self.file_path, 'r') as f:\n",
    "            f.visititems(self._collect_datasets)\n",
    "\n",
    "    def _collect_datasets(self, name, node):\n",
    "        if isinstance(node, h5py.Dataset):\n",
    "            group_name = name.split('/')[0]\n",
    "            dataset_name = name.split('/')[-1]\n",
    "            self.group_data[group_name][dataset_name] = name  # Store full path\n",
    "\n",
    "    def _ensure_file_open(self):\n",
    "        if self.file is None or not self.file.id.valid:\n",
    "            self.file = h5py.File(self.file_path, 'r')\n",
    "\n",
    "    def close(self):\n",
    "        if self.file is not None:\n",
    "            self.file.close()\n",
    "            self.file = None\n",
    "\n",
    "    def get_dataset(self, group_name, dataset_name) -> np.array:\n",
    "        # Extracts given dataset from a specific group\n",
    "        self._ensure_file_open()\n",
    "        full_path = self.group_data[group_name][dataset_name]\n",
    "        return self.file[full_path]\n",
    "\n",
    "    def get_dataset_for_all_groups(self, dataset_name) -> Dict[str,np.array]:\n",
    "        dataset_dict = {}\n",
    "        for group_name in self.group_data.keys():\n",
    "            dataset = self.get_data(group_name, dataset_name)\n",
    "            dataset_dict[group_name] = dataset\n",
    "        return dataset_dict\n",
    "\n",
    "    def get_data(self, group_name, dataset_name, slice=None):\n",
    "        dataset = self.get_dataset(group_name, dataset_name)\n",
    "        if slice is None:\n",
    "            return dataset[:]\n",
    "        return dataset[slice]\n",
    "\n",
    "    def get_metadata(self, group_name, dataset_name):\n",
    "        dataset = self.get_dataset(group_name, dataset_name)\n",
    "        return {\n",
    "            'shape': dataset.shape,\n",
    "            'dtype': str(dataset.dtype),\n",
    "            'chunks': dataset.chunks,\n",
    "            'compression': dataset.compression\n",
    "        }\n",
    "\n",
    "    def __enter__(self):\n",
    "        return self\n",
    "\n",
    "    def __exit__(self, exc_type, exc_val, exc_tb):\n",
    "        self.close()\n",
    "\n",
    "    def __del__(self):\n",
    "        self.close()\n"
   ]
  },
  {
   "cell_type": "code",
   "execution_count": 46,
   "id": "7cd409f2-bd3c-4914-9263-33b4335dcdf2",
   "metadata": {},
   "outputs": [
    {
     "name": "stdout",
     "output_type": "stream",
     "text": [
      "Groups: ['trimmed_2024-07-15_22-04-39_1-2blue']\n",
      "\n",
      "Datasets in trimmed_2024-07-15_22-04-39_1-2blue: ['ankle_distance', 'background_luminance', 'both_front_paws_lifted', 'cheek_distance', 'chest_head_angle', 'distance_delta', 'fps', 'frame_count', 'front_left_luminance', 'front_paws_distance', 'front_right_luminance', 'hind_left_luminance', 'hind_left_luminance_scaled', 'hind_paws_distance', 'hind_right_luminance', 'hind_right_luminance_scaled', 'hip_chest_angle', 'hip_sternumtail_distance', 'hip_tailbase_distance', 'hip_tailbase_hlpaw_angle', 'hip_tailbase_hrpaw_angle', 'hip_width', 'luminance_logratio', 'neck_snout_distance', 'paw_guarding', 'shoulder_width', 'sternumhead_neck_distance', 'sternumtail_sternumhead_distance', 'tail_hip_angle', 'tailbase_tailtip_distance']\n"
     ]
    }
   ],
   "source": [
    "file_path = ex\n",
    "with HDF5Manager(file_path) as hdf:\n",
    "    # List all groups\n",
    "    print(\"Groups:\", list(hdf.group_data.keys()))\n",
    "    # Choose a group\n",
    "    group_name = list(hdf.group_data.keys())[0]\n",
    "    print(f\"\\nDatasets in {group_name}:\", list(hdf.group_data[group_name].keys()))\n",
    "    # Get data\n",
    "    data = hdf.get_data(group_name, 'both_front_paws_lifted')"
   ]
  },
  {
   "cell_type": "code",
   "execution_count": 47,
   "id": "1f4e92cc-4879-46a0-84ab-eccc84acde9c",
   "metadata": {},
   "outputs": [
    {
     "data": {
      "text/plain": [
       "array([False, False, False, ..., False, False, False])"
      ]
     },
     "execution_count": 47,
     "metadata": {},
     "output_type": "execute_result"
    }
   ],
   "source": [
    "data"
   ]
  },
  {
   "cell_type": "code",
   "execution_count": 48,
   "id": "18da0f50-8b29-452b-a807-cfda5b4a74f6",
   "metadata": {},
   "outputs": [
    {
     "data": {
      "text/plain": [
       "(array([False,  True]), array([12902,   421]))"
      ]
     },
     "execution_count": 48,
     "metadata": {},
     "output_type": "execute_result"
    }
   ],
   "source": [
    "np.unique(data, return_counts=True)"
   ]
  },
  {
   "cell_type": "code",
   "execution_count": 49,
   "id": "7905a629-7d34-4324-b766-5e3a49fb0efc",
   "metadata": {},
   "outputs": [],
   "source": [
    "pain_datasets = ['paw_guarding','both_front_paws_lifted', 'luminance_logratio','hip_tailbase_hlpaw_angle', \n",
    "                 'hind_paws_distance', 'neck_snout_distance'] \n",
    "\n",
    "def extract_datasets_from_h5(filepath: os.PathLike, target_datasets: List[str]) -> Dict[str,np.ndarray]:\n",
    "    assert filepath.endswith('.h5'), f' Expecting h5 file, but file {os.path.basename(filepath)} passed in'\n",
    "    with h5py.File(filepath, 'r') as f:\n",
    "        # Get top level groups\n",
    "        groups = [key for key in f.keys() if isinstance(f[key],h5py.Group)]\n",
    "\n",
    "        # Make sure there is only one group\n",
    "        if len(groups) != 1:\n",
    "            raise ValueError(f' expecting file to have exactly one group, as is typical in palmreader outputs, but found groups: {groups}')\n",
    "        group = f[groups[0]]\n",
    "        \n",
    "        # Get datasets in the group\n",
    "        extracted_datasets = {}\n",
    "        for dataset in target_datasets:\n",
    "            if dataset not in group:\n",
    "                raise KeyError(f\"Dataset {dataset} not found in the file. Found the following keys: {group.keys()}\")\n",
    "            # Read only the desired dataset into memory and assign to a dict\n",
    "            extracted_datasets[dataset] = group[dataset][()]\n",
    "            \n",
    "        return extracted_datasets\n",
    "    "
   ]
  },
  {
   "cell_type": "code",
   "execution_count": 50,
   "id": "336dc76c-351d-46a6-a055-0217cbc58159",
   "metadata": {},
   "outputs": [
    {
     "name": "stdout",
     "output_type": "stream",
     "text": [
      "---- paw_guarding ----\n",
      "val type: <class 'numpy.ndarray'>\n",
      "len: 13323\n",
      "first item: False\n",
      "first item type <class 'numpy.bool_'>\n",
      "---- both_front_paws_lifted ----\n",
      "val type: <class 'numpy.ndarray'>\n",
      "len: 13323\n",
      "first item: False\n",
      "first item type <class 'numpy.bool_'>\n",
      "---- luminance_logratio ----\n",
      "val type: <class 'numpy.ndarray'>\n",
      "len: 13323\n",
      "first item: -0.34682081129222675\n",
      "first item type <class 'numpy.float64'>\n",
      "---- hip_tailbase_hlpaw_angle ----\n",
      "val type: <class 'numpy.ndarray'>\n",
      "len: 13500\n",
      "first item: 36.953868629412376\n",
      "first item type <class 'numpy.float64'>\n",
      "---- hind_paws_distance ----\n",
      "val type: <class 'numpy.ndarray'>\n",
      "len: 13500\n",
      "first item: 83.2689600266507\n",
      "first item type <class 'numpy.float64'>\n",
      "---- neck_snout_distance ----\n",
      "val type: <class 'numpy.ndarray'>\n",
      "len: 13500\n",
      "first item: 38.7669519779217\n",
      "first item type <class 'numpy.float64'>\n"
     ]
    }
   ],
   "source": [
    "extracted_datasets = extract_datasets_from_h5(ex,pain_datasets)\n",
    "for k,v in extracted_datasets.items():\n",
    "    print('----',k,'----')\n",
    "    print('val type:', type(v))\n",
    "    print('len:', len(v))\n",
    "    print('first item:', v[0])\n",
    "    print('first item type',type(v[0]))\n",
    "    "
   ]
  },
  {
   "cell_type": "code",
   "execution_count": 55,
   "id": "44993a27-4060-479c-bd33-7748c940c129",
   "metadata": {},
   "outputs": [],
   "source": [
    "import os\n",
    "import numpy as np\n",
    "import h5py\n",
    "from typing import List, Dict\n",
    "from concurrent.futures import ProcessPoolExecutor\n",
    "from tqdm import tqdm\n",
    "\n",
    "def process_single_file(args):\n",
    "    filepath, pain_datasets = args\n",
    "    return extract_datasets_from_h5(filepath, pain_datasets)\n",
    "\n",
    "def process_h5_files(file_list: List[str], pain_datasets: List[str]) -> Dict[str, List[np.ndarray]]:\n",
    "    # Validate input files\n",
    "    valid_files = [file for file in file_list if os.path.exists(file) and file.endswith('.h5')]\n",
    "    \n",
    "    if not valid_files:\n",
    "        raise ValueError(\"No valid .h5 files provided.\")\n",
    "\n",
    "    # Initialize dictionary to store data\n",
    "    all_data = {dataset: [] for dataset in pain_datasets}\n",
    "    \n",
    "    # Process files in parallel\n",
    "    with ProcessPoolExecutor() as executor:\n",
    "        results = list(tqdm(executor.map(process_single_file, [(f, pain_datasets) for f in valid_files]), total=len(valid_files)))\n",
    "    \n",
    "    # Collect results\n",
    "    for i, result in enumerate(results):\n",
    "        for dataset in pain_datasets:\n",
    "            if dataset in result:\n",
    "                all_data[dataset].append(result[dataset])\n",
    "            else:\n",
    "                print(f\"Warning: Dataset {dataset} not found in file {valid_files[i]}\")\n",
    "                all_data[dataset].append(np.array([]))  # Append an empty array for missing data\n",
    "    \n",
    "    return all_data\n",
    "\n",
    "def extract_datasets_from_h5(filepath: os.PathLike, target_datasets: List[str]) -> Dict[str, np.ndarray]:\n",
    "    with h5py.File(filepath, 'r') as f:\n",
    "        group = list(f.keys())[0]\n",
    "        return {dataset: f[group][dataset][()] for dataset in target_datasets if dataset in f[group]}"
   ]
  },
  {
   "cell_type": "code",
   "execution_count": 68,
   "id": "692faf11-d918-43ae-b9c9-8c2735453881",
   "metadata": {},
   "outputs": [],
   "source": [
    "def calculate_bins(arrays: List[np.ndarray[np.float64]], num_bins: int) -> np.ndarray[np.float64]:\n",
    "    \"\"\"\n",
    "    Calculate bin edges based on the combined data from all input arrays.\n",
    "    \n",
    "    :param arrays: List of NumPy arrays containing the data\n",
    "    :param num_bins: Number of bins to create\n",
    "    :return: NumPy array of bin edges\n",
    "    \"\"\"\n",
    "    # Combine all arrays\n",
    "    combined = np.concatenate(arrays)\n",
    "    \n",
    "    # Calculate bin edges\n",
    "    _, bin_edges = np.histogram(combined, bins=num_bins)\n",
    "    \n",
    "    return bin_edges\n",
    "\n",
    "def calculate_frequencies(arrays: List[np.ndarray[np.float64]], bin_edges: np.ndarray[np.float64]) -> np.ndarray[np.float64]:\n",
    "    \"\"\"\n",
    "    Calculate frequencies for each array based on the given bin edges.\n",
    "    \n",
    "    :param arrays: List of NumPy arrays containing the data\n",
    "    :param bin_edges: NumPy array of bin edges\n",
    "    :return: 2D NumPy array of frequencies for each input array\n",
    "    \"\"\"\n",
    "    frequencies = []\n",
    "    for arr in arrays:\n",
    "        # Use numpy's digitize to find which bin each value belongs to\n",
    "        indices = np.digitize(arr, bin_edges[1:])\n",
    "        \n",
    "        # Count occurrences in each bin\n",
    "        bin_counts = np.bincount(indices, minlength=len(bin_edges)-1)\n",
    "        \n",
    "        # Calculate frequencies\n",
    "        freq = bin_counts / len(arr)\n",
    "        frequencies.append(freq)\n",
    "    \n",
    "    return frequencies"
   ]
  },
  {
   "cell_type": "code",
   "execution_count": 69,
   "id": "7a9d4dbb-361d-4ea5-a504-6e70f186b9f4",
   "metadata": {},
   "outputs": [
    {
     "name": "stdout",
     "output_type": "stream",
     "text": [
      "number of files found: 38\n"
     ]
    },
    {
     "name": "stderr",
     "output_type": "stream",
     "text": [
      "100%|███████████████████████████████████████████████████████████████████████████████████████| 38/38 [00:00<00:00, 1387.15it/s]"
     ]
    },
    {
     "name": "stdout",
     "output_type": "stream",
     "text": [
      "key: paw_guarding has  38 items\n",
      "key: both_front_paws_lifted has  38 items\n",
      "key: luminance_logratio has  38 items\n",
      "key: hip_tailbase_hlpaw_angle has  38 items\n",
      "key: hind_paws_distance has  38 items\n",
      "key: neck_snout_distance has  38 items\n"
     ]
    },
    {
     "name": "stderr",
     "output_type": "stream",
     "text": [
      "\n"
     ]
    }
   ],
   "source": [
    "# Get all features.h5 files regardless of experimental group\n",
    "# Another function will handle this step once bins are decided upon\n",
    "\n",
    "data_dir = '/mnt/hd0/Pain_ML_data'\n",
    "video_dir = os.path.join(data_dir, 'videos')\n",
    "\n",
    "features_files = []\n",
    "for root, dirs, files in os.walk(video_dir):\n",
    "    for file in files:\n",
    "        if file == 'features.h5':\n",
    "            filepath = os.path.join(root,file)\n",
    "            features_files.append(filepath)\n",
    "print('number of files found:',len(features_files))\n",
    "\n",
    "concatenated_features = process_h5_files(features_files, pain_datasets)\n",
    "for k,v in concatenated_features.items():\n",
    "    print('key:',k,'has ',len(v),'items')"
   ]
  },
  {
   "cell_type": "code",
   "execution_count": 70,
   "id": "0bea4b3f-abb7-4130-927d-ec600859c71a",
   "metadata": {},
   "outputs": [
    {
     "data": {
      "text/plain": [
       "[array([0.        , 0.13050962, 0.01391903, 0.06465614, 0.27867994,\n",
       "        0.19965577, 0.10110005, 0.19336975, 0.00718402, 0.00523834,\n",
       "        0.00209534, 0.00074833, 0.00074833, 0.00209534, 0.        ]),\n",
       " array([0.        , 0.0009863 , 0.00087671, 0.0019726 , 0.01490411,\n",
       "        0.40991781, 0.36      , 0.19391781, 0.00975342, 0.00421918,\n",
       "        0.00060274, 0.00049315, 0.00065753, 0.00169863, 0.        ]),\n",
       " array([0.00268373, 0.01336705, 0.00263212, 0.01594756, 0.17258464,\n",
       "        0.35156895, 0.34336292, 0.08133774, 0.00717382, 0.00433526,\n",
       "        0.00129026, 0.00056771, 0.0020128 , 0.00113543, 0.        ]),\n",
       " array([0.        , 0.00717796, 0.00099387, 0.00204296, 0.02545414,\n",
       "        0.21760256, 0.05891447, 0.65545801, 0.01280989, 0.00833747,\n",
       "        0.00364419, 0.00149081, 0.00281597, 0.00325769, 0.        ]),\n",
       " array([0.        , 0.0241842 , 0.00353376, 0.00706753, 0.18938766,\n",
       "        0.30522887, 0.28358456, 0.15973718, 0.00640495, 0.00563194,\n",
       "        0.00502457, 0.00320247, 0.00502457, 0.00198774, 0.        ]),\n",
       " array([0.        , 0.04418404, 0.01243877, 0.03779656, 0.15411584,\n",
       "        0.20516761, 0.37734127, 0.13591394, 0.01325521, 0.00437038,\n",
       "        0.00518682, 0.00273749, 0.00364999, 0.00384209, 0.        ]),\n",
       " array([0.        , 0.01167123, 0.00416438, 0.00421918, 0.08334247,\n",
       "        0.33276712, 0.36635616, 0.17484932, 0.01068493, 0.00641096,\n",
       "        0.0010411 , 0.00043836, 0.00312329, 0.00093151, 0.        ]),\n",
       " array([0.        , 0.05004322, 0.00768418, 0.01916242, 0.1726059 ,\n",
       "        0.36278936, 0.12597253, 0.22490635, 0.01109404, 0.00989338,\n",
       "        0.00595524, 0.00177697, 0.00585919, 0.00225723, 0.        ]),\n",
       " array([0.        , 0.03839028, 0.00681835, 0.0308308 , 0.22537612,\n",
       "        0.18105684, 0.19921441, 0.29037279, 0.01578596, 0.00926406,\n",
       "        0.0011858 , 0.00044468, 0.00066701, 0.0005929 , 0.        ]),\n",
       " array([0.        , 0.02660647, 0.00542695, 0.01916242, 0.13629815,\n",
       "        0.39443857, 0.33234079, 0.06123331, 0.00686774, 0.00518682,\n",
       "        0.00427433, 0.00345788, 0.00206512, 0.00264144, 0.        ]),\n",
       " array([1.44078379e-04, 4.09182595e-02, 6.81970992e-03, 1.44558640e-02,\n",
       "        5.44616271e-02, 1.37642878e-01, 4.82086255e-01, 2.26251081e-01,\n",
       "        1.06137739e-02, 6.29142253e-03, 5.33090001e-03, 3.69801172e-03,\n",
       "        9.17299011e-03, 2.11314955e-03, 0.00000000e+00]),\n",
       " array([7.67123288e-04, 1.26575342e-02, 1.04109589e-03, 7.83561644e-03,\n",
       "        8.36164384e-02, 2.58301370e-01, 4.15342466e-01, 1.93369863e-01,\n",
       "        1.29315068e-02, 9.15068493e-03, 1.91780822e-03, 1.31506849e-03,\n",
       "        3.28767123e-04, 1.42465753e-03, 0.00000000e+00]),\n",
       " array([5.16102395e-04, 3.27725021e-02, 2.89017341e-03, 1.32638315e-02,\n",
       "        2.04273328e-01, 2.40452106e-01, 4.34196945e-01, 5.26940545e-02,\n",
       "        8.92857143e-03, 5.78034682e-03, 1.44508671e-03, 6.19322874e-04,\n",
       "        2.06440958e-03, 1.03220479e-04, 0.00000000e+00]),\n",
       " array([0.        , 0.28539475, 0.00840285, 0.02345545, 0.10978116,\n",
       "        0.2589167 , 0.18069157, 0.11068795, 0.0166848 , 0.00284125,\n",
       "        0.00157176, 0.00060452, 0.00054407, 0.00042317, 0.        ]),\n",
       " array([2.32246078e-03, 2.69921552e-02, 2.21924030e-03, 8.56729975e-03,\n",
       "        8.40214699e-02, 1.59836912e-01, 1.07710570e-01, 5.87169694e-01,\n",
       "        1.26961189e-02, 6.29644922e-03, 1.34186623e-03, 5.16102395e-05,\n",
       "        3.61271676e-04, 4.12881916e-04, 0.00000000e+00]),\n",
       " array([0.        , 0.03788192, 0.00763832, 0.04273328, 0.18620974,\n",
       "        0.2011251 , 0.21113749, 0.27497936, 0.01620562, 0.01073493,\n",
       "        0.0040256 , 0.00077415, 0.00387077, 0.00268373, 0.        ]),\n",
       " array([0.        , 0.00912828, 0.00344577, 0.03143513, 0.52375771,\n",
       "        0.19423286, 0.09394269, 0.11673316, 0.01293677, 0.00513844,\n",
       "        0.00302261, 0.00066497, 0.00157176, 0.00398984, 0.        ]),\n",
       " array([2.73972603e-04, 2.25753425e-02, 2.46575342e-03, 6.30136986e-03,\n",
       "        6.90410959e-02, 2.15178082e-01, 2.06958904e-01, 4.37753425e-01,\n",
       "        2.16438356e-02, 1.04657534e-02, 2.68493151e-03, 9.31506849e-04,\n",
       "        1.42465753e-03, 2.30136986e-03, 0.00000000e+00]),\n",
       " array([0.00000000e+00, 8.40185379e-02, 8.22245478e-03, 4.11122739e-02,\n",
       "        1.25504560e-01, 1.39108985e-01, 1.81193003e-01, 3.86679623e-01,\n",
       "        1.91358948e-02, 1.03154433e-02, 2.01823890e-03, 2.98998356e-04,\n",
       "        1.19599342e-03, 1.19599342e-03, 0.00000000e+00]),\n",
       " array([0.00000000e+00, 1.00052266e-02, 2.01597850e-03, 4.10662286e-03,\n",
       "        5.89860375e-02, 6.72739491e-01, 1.19017397e-01, 1.09161502e-01,\n",
       "        1.48585082e-02, 6.27193310e-03, 1.56798327e-03, 5.22661092e-04,\n",
       "        1.49331740e-04, 5.97326962e-04, 0.00000000e+00]),\n",
       " array([0.00000000e+00, 8.23476568e-04, 1.49723012e-04, 7.48615062e-05,\n",
       "        1.64695314e-03, 1.23521485e-02, 1.82662075e-02, 9.31651445e-01,\n",
       "        1.81164845e-02, 9.13310376e-03, 2.09612217e-03, 0.00000000e+00,\n",
       "        7.48615062e-05, 5.61461297e-03, 0.00000000e+00]),\n",
       " array([0.00000000e+00, 1.41858043e-02, 5.55528000e-03, 2.87684143e-03,\n",
       "        8.08491642e-03, 4.92535093e-02, 1.37096374e-01, 7.15738307e-01,\n",
       "        5.19319478e-02, 7.58890928e-03, 9.42413571e-04, 4.46406428e-04,\n",
       "        2.57923714e-03, 3.72005357e-03, 0.00000000e+00]),\n",
       " array([0.00000000e+00, 2.41346194e-02, 2.92287778e-03, 1.46143889e-03,\n",
       "        1.36957702e-02, 4.77681740e-02, 2.26397762e-01, 6.40611299e-01,\n",
       "        2.51785043e-02, 6.93139588e-03, 1.29441730e-03, 4.59309366e-04,\n",
       "        4.63484905e-03, 4.50958286e-03, 0.00000000e+00]),\n",
       " array([0.00000000e+00, 1.27886858e-03, 3.00910254e-04, 2.25682690e-04,\n",
       "        1.20364101e-03, 1.73023396e-02, 3.21973971e-02, 8.02226736e-01,\n",
       "        1.33228015e-01, 1.03061762e-02, 8.27503197e-04, 7.52275634e-05,\n",
       "        0.00000000e+00, 6.01820507e-04, 2.25682690e-04]),\n",
       " array([0.00000000e+00, 5.51171239e-03, 2.88112239e-03, 5.01064763e-04,\n",
       "        5.92926636e-03, 5.76224477e-02, 1.20005011e-01, 7.63831475e-01,\n",
       "        3.16923462e-02, 3.79974112e-03, 1.04388492e-03, 8.76863335e-04,\n",
       "        4.84362604e-03, 1.46143889e-03, 0.00000000e+00]),\n",
       " array([0.        , 0.00466247, 0.00213283, 0.00114082, 0.0070929 ,\n",
       "        0.0558504 , 0.04702148, 0.83284559, 0.03387729, 0.00555528,\n",
       "        0.00094241, 0.00104161, 0.00342245, 0.00441446, 0.        ]),\n",
       " array([2.29654683e-03, 1.34535889e-01, 6.38857572e-03, 5.97102175e-03,\n",
       "        1.51154537e-02, 6.19232536e-02, 5.12338720e-02, 7.04288279e-01,\n",
       "        1.21090651e-02, 1.25266191e-03, 3.34043175e-04, 4.59309366e-04,\n",
       "        2.92287778e-04, 3.79974112e-03, 0.00000000e+00]),\n",
       " array([0.00000000e+00, 1.01442741e-02, 1.57799820e-03, 7.51427713e-04,\n",
       "        2.85542531e-03, 1.27742711e-02, 1.98827773e-01, 6.43973550e-01,\n",
       "        1.03997595e-01, 1.66065524e-02, 2.70513977e-03, 2.25428314e-04,\n",
       "        2.47971145e-03, 3.08085362e-03, 0.00000000e+00]),\n",
       " array([0.00000000e+00, 1.87899286e-03, 2.71410080e-03, 3.75798572e-04,\n",
       "        2.17128064e-03, 4.55551380e-02, 1.29483486e-01, 8.13979707e-01,\n",
       "        1.16915111e-03, 6.26330953e-04, 2.92287778e-04, 3.34043175e-04,\n",
       "        1.41968349e-03, 0.00000000e+00, 0.00000000e+00]),\n",
       " array([0.00000000e+00, 1.86697088e-01, 5.90248500e-03, 1.43842071e-03,\n",
       "        3.81925500e-03, 2.85204107e-02, 6.08501562e-01, 1.46520510e-01,\n",
       "        1.13089628e-02, 2.57923714e-03, 2.48003571e-04, 6.44809285e-04,\n",
       "        2.67843857e-03, 1.14081643e-03, 0.00000000e+00]),\n",
       " array([3.47205000e-04, 4.00773771e-02, 7.19210357e-03, 1.05153514e-02,\n",
       "        7.20202371e-02, 4.92535093e-02, 3.39616090e-01, 4.46208025e-01,\n",
       "        1.77074550e-02, 5.55528000e-03, 1.24001786e-03, 1.33921928e-03,\n",
       "        5.70408214e-03, 3.22404643e-03, 0.00000000e+00]),\n",
       " array([0.00000000e+00, 2.84592011e-02, 4.44675017e-04, 1.63047506e-03,\n",
       "        5.26198770e-03, 5.55843771e-03, 2.11072408e-01, 6.36329949e-01,\n",
       "        1.03312829e-01, 4.59497517e-03, 1.03757504e-03, 1.48225006e-04,\n",
       "        4.44675017e-04, 1.70458756e-03, 0.00000000e+00]),\n",
       " array([3.75290850e-04, 6.15476995e-03, 2.25174510e-04, 9.00698041e-04,\n",
       "        2.40186144e-03, 2.32680327e-02, 7.04045635e-02, 8.62793665e-01,\n",
       "        2.11664040e-02, 7.13052616e-03, 1.12587255e-03, 3.00232680e-04,\n",
       "        1.72633791e-03, 2.02657059e-03, 0.00000000e+00]),\n",
       " array([3.58323863e-04, 4.40226461e-04, 1.63805195e-04, 9.21404220e-05,\n",
       "        4.60702110e-04, 3.79823295e-03, 8.61001054e-03, 8.85131607e-01,\n",
       "        6.16009910e-02, 3.33548328e-02, 2.70278571e-03, 5.32366883e-04,\n",
       "        2.96896915e-04, 2.29327273e-03, 1.53567370e-04, 1.02378247e-05]),\n",
       " array([0.00000000e+00, 1.03008745e-02, 1.03749815e-03, 2.66785238e-03,\n",
       "        9.63391137e-03, 2.74937009e-02, 7.78864681e-02, 7.65154884e-01,\n",
       "        6.93641618e-02, 2.17133541e-02, 4.89106269e-03, 1.18571217e-03,\n",
       "        1.63035423e-03, 6.89195198e-03, 1.48214021e-04]),\n",
       " array([0.        , 0.01252408, 0.00437231, 0.00170446, 0.00503928,\n",
       "        0.0126723 , 0.0729213 , 0.74455313, 0.09930339, 0.02000889,\n",
       "        0.00592856, 0.00125982, 0.00800356, 0.01170891, 0.        ]),\n",
       " array([0.00000000e+00, 2.07438139e-03, 1.48170099e-04, 6.66765447e-04,\n",
       "        1.62987109e-03, 1.08164172e-02, 5.03037487e-02, 8.25455623e-01,\n",
       "        7.28256038e-02, 2.88931694e-02, 2.00029634e-03, 2.22255149e-04,\n",
       "        1.48170099e-03, 3.48199733e-03, 0.00000000e+00]),\n",
       " array([0.00000000e+00, 3.92679855e-03, 0.00000000e+00, 1.11135808e-03,\n",
       "        7.18678225e-03, 2.70430466e-02, 1.67518708e-01, 7.50685337e-01,\n",
       "        2.25976143e-02, 1.39290213e-02, 2.07453508e-03, 2.96362155e-04,\n",
       "        2.96362155e-04, 3.33407424e-03, 0.00000000e+00])]"
      ]
     },
     "execution_count": 70,
     "metadata": {},
     "output_type": "execute_result"
    }
   ],
   "source": [
    "bin_edges = calculate_bins(concatenated_features['luminance_logratio'],15) # do this separately when interested in experimental groups\n",
    "calculate_frequencies(concatenated_features['luminance_logratio'], bin_edges)"
   ]
  },
  {
   "cell_type": "code",
   "execution_count": 77,
   "id": "610d6495-9dff-43ff-a328-0ca9574a2ce5",
   "metadata": {},
   "outputs": [],
   "source": [
    "def process_one_hot_datasets(arrays: List[np.ndarray[bool]]) -> List[float]:\n",
    "    int_one_hot = [arr.astype(int) for arr in arrays]\n",
    "    freqs = [np.sum(arr)/len(arr) for arr in int_one_hot]\n",
    "    return freqs\n",
    "    "
   ]
  },
  {
   "cell_type": "code",
   "execution_count": 79,
   "id": "162860e5-7c10-4e96-8160-5c6c36d4725a",
   "metadata": {},
   "outputs": [
    {
     "data": {
      "text/plain": [
       "[0.04609743321110529,\n",
       " 0.0038356164383561643,\n",
       " 0.016515276630883566,\n",
       " 0.016233228424714263,\n",
       " 0.038098393241676326,\n",
       " 0.05028335414465469,\n",
       " 0.012383561643835616,\n",
       " 0.04778599558159639,\n",
       " 0.03713036389238865,\n",
       " 0.031505138795504754,\n",
       " 0.05124387666890789,\n",
       " 0.014082191780821918,\n",
       " 0.02957266721717589,\n",
       " 0.1031314230443719,\n",
       " 0.028901734104046242,\n",
       " 0.03963666391412056,\n",
       " 0.013904001934469834,\n",
       " 0.024219178082191782,\n",
       " 0.08715802063088653,\n",
       " 0.011498544015530502,\n",
       " 0.005614612966012876,\n",
       " 0.01448340856108328,\n",
       " 0.021211741617604075,\n",
       " 0.0022568269013766643,\n",
       " 0.008351079377009478,\n",
       " 0.007588909280293636,\n",
       " 0.0920706501315295,\n",
       " 0.01179741508866847,\n",
       " 0.003006388575723412,\n",
       " 0.008729725708050196,\n",
       " 0.022766727840880907,\n",
       " 0.029496776106129104,\n",
       " 0.008781805899572169,\n",
       " 0.002764212660093983,\n",
       " 0.01563657922039425,\n",
       " 0.024455313472654512,\n",
       " 0.006000889020595644,\n",
       " 0.006297695784248352]"
      ]
     },
     "execution_count": 79,
     "metadata": {},
     "output_type": "execute_result"
    }
   ],
   "source": [
    "process_one_hot_datasets(concatenated_features['paw_guarding'])"
   ]
  },
  {
   "cell_type": "code",
   "execution_count": null,
   "id": "cb20f8f7-c587-4835-ace9-2351cf44151f",
   "metadata": {},
   "outputs": [],
   "source": []
  }
 ],
 "metadata": {
  "kernelspec": {
   "display_name": "Python 3 (ipykernel)",
   "language": "python",
   "name": "python3"
  },
  "language_info": {
   "codemirror_mode": {
    "name": "ipython",
    "version": 3
   },
   "file_extension": ".py",
   "mimetype": "text/x-python",
   "name": "python",
   "nbconvert_exporter": "python",
   "pygments_lexer": "ipython3",
   "version": "3.9.20"
  }
 },
 "nbformat": 4,
 "nbformat_minor": 5
}
